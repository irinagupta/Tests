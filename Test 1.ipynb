{
 "cells": [
  {
   "cell_type": "code",
   "execution_count": 1,
   "metadata": {},
   "outputs": [],
   "source": [
    "import pandas as pd\n",
    "import numpy as np"
   ]
  },
  {
   "cell_type": "code",
   "execution_count": 2,
   "metadata": {
    "scrolled": true
   },
   "outputs": [
    {
     "data": {
      "text/html": [
       "<div>\n",
       "<style scoped>\n",
       "    .dataframe tbody tr th:only-of-type {\n",
       "        vertical-align: middle;\n",
       "    }\n",
       "\n",
       "    .dataframe tbody tr th {\n",
       "        vertical-align: top;\n",
       "    }\n",
       "\n",
       "    .dataframe thead th {\n",
       "        text-align: right;\n",
       "    }\n",
       "</style>\n",
       "<table border=\"1\" class=\"dataframe\">\n",
       "  <thead>\n",
       "    <tr style=\"text-align: right;\">\n",
       "      <th></th>\n",
       "      <th>id</th>\n",
       "      <th>phone</th>\n",
       "      <th>mail</th>\n",
       "    </tr>\n",
       "  </thead>\n",
       "  <tbody>\n",
       "    <tr>\n",
       "      <th>1</th>\n",
       "      <td>12345</td>\n",
       "      <td>89997776655</td>\n",
       "      <td>test@mail.ru</td>\n",
       "    </tr>\n",
       "    <tr>\n",
       "      <th>2</th>\n",
       "      <td>54321</td>\n",
       "      <td>87778885566</td>\n",
       "      <td>two@mail.ru</td>\n",
       "    </tr>\n",
       "    <tr>\n",
       "      <th>3</th>\n",
       "      <td>98765</td>\n",
       "      <td>87776664577</td>\n",
       "      <td>three@mail</td>\n",
       "    </tr>\n",
       "    <tr>\n",
       "      <th>4</th>\n",
       "      <td>66678</td>\n",
       "      <td>87778885566</td>\n",
       "      <td>four@mail.ru</td>\n",
       "    </tr>\n",
       "    <tr>\n",
       "      <th>5</th>\n",
       "      <td>34567</td>\n",
       "      <td>84547895566</td>\n",
       "      <td>four@mail.ru</td>\n",
       "    </tr>\n",
       "    <tr>\n",
       "      <th>6</th>\n",
       "      <td>34567</td>\n",
       "      <td>89087545678</td>\n",
       "      <td>five@mail.ru</td>\n",
       "    </tr>\n",
       "  </tbody>\n",
       "</table>\n",
       "</div>"
      ],
      "text/plain": [
       "      id        phone          mail\n",
       "1  12345  89997776655  test@mail.ru\n",
       "2  54321  87778885566   two@mail.ru\n",
       "3  98765  87776664577    three@mail\n",
       "4  66678  87778885566  four@mail.ru\n",
       "5  34567  84547895566  four@mail.ru\n",
       "6  34567  89087545678  five@mail.ru"
      ]
     },
     "execution_count": 2,
     "metadata": {},
     "output_type": "execute_result"
    }
   ],
   "source": [
    "df = pd.DataFrame()\n",
    "data = {'id': [12345, 54321, 98765, 66678, 34567, 34567],\n",
    "        'phone': [89997776655, 87778885566, 87776664577, 87778885566, 84547895566, 89087545678], \n",
    "        'mail': ['test@mail.ru', 'two@mail.ru', 'three@mail', 'four@mail.ru', 'four@mail.ru', 'five@mail.ru']}\n",
    "\n",
    "df = pd.DataFrame(data, index =[1, 2, 3, 4, 5, 6])\n",
    "df"
   ]
  },
  {
   "cell_type": "code",
   "execution_count": 3,
   "metadata": {},
   "outputs": [
    {
     "data": {
      "text/html": [
       "<div>\n",
       "<style scoped>\n",
       "    .dataframe tbody tr th:only-of-type {\n",
       "        vertical-align: middle;\n",
       "    }\n",
       "\n",
       "    .dataframe tbody tr th {\n",
       "        vertical-align: top;\n",
       "    }\n",
       "\n",
       "    .dataframe thead th {\n",
       "        text-align: right;\n",
       "    }\n",
       "</style>\n",
       "<table border=\"1\" class=\"dataframe\">\n",
       "  <thead>\n",
       "    <tr style=\"text-align: right;\">\n",
       "      <th></th>\n",
       "      <th>id</th>\n",
       "      <th>phone</th>\n",
       "      <th>mail</th>\n",
       "    </tr>\n",
       "  </thead>\n",
       "  <tbody>\n",
       "    <tr>\n",
       "      <th>2</th>\n",
       "      <td>54321</td>\n",
       "      <td>87778885566</td>\n",
       "      <td>two@mail.ru</td>\n",
       "    </tr>\n",
       "    <tr>\n",
       "      <th>4</th>\n",
       "      <td>66678</td>\n",
       "      <td>87778885566</td>\n",
       "      <td>four@mail.ru</td>\n",
       "    </tr>\n",
       "    <tr>\n",
       "      <th>5</th>\n",
       "      <td>34567</td>\n",
       "      <td>84547895566</td>\n",
       "      <td>four@mail.ru</td>\n",
       "    </tr>\n",
       "    <tr>\n",
       "      <th>6</th>\n",
       "      <td>34567</td>\n",
       "      <td>89087545678</td>\n",
       "      <td>five@mail.ru</td>\n",
       "    </tr>\n",
       "  </tbody>\n",
       "</table>\n",
       "</div>"
      ],
      "text/plain": [
       "      id        phone          mail\n",
       "2  54321  87778885566   two@mail.ru\n",
       "4  66678  87778885566  four@mail.ru\n",
       "5  34567  84547895566  four@mail.ru\n",
       "6  34567  89087545678  five@mail.ru"
      ]
     },
     "execution_count": 3,
     "metadata": {},
     "output_type": "execute_result"
    }
   ],
   "source": [
    "def related_data(all_data, required_data):\n",
    "    relevant_data = all_data.apply(lambda x: x.isin(required_data.ravel()))\n",
    "    result_df = all_data.iloc[np.unique(np.where(relevant_data)[0]),:]\n",
    "    if set(required_data) == set(result_df.to_numpy().ravel()):\n",
    "        return result_df\n",
    "    else:\n",
    "        return related_data(all_data, result_df.to_numpy().ravel())\n",
    "    \n",
    "necessary_data = 87778885566\n",
    "\n",
    "related_data(df, np.array([necessary_data]))"
   ]
  },
  {
   "cell_type": "code",
   "execution_count": null,
   "metadata": {},
   "outputs": [],
   "source": []
  }
 ],
 "metadata": {
  "kernelspec": {
   "display_name": "Python 3",
   "language": "python",
   "name": "python3"
  },
  "language_info": {
   "codemirror_mode": {
    "name": "ipython",
    "version": 3
   },
   "file_extension": ".py",
   "mimetype": "text/x-python",
   "name": "python",
   "nbconvert_exporter": "python",
   "pygments_lexer": "ipython3",
   "version": "3.7.6"
  }
 },
 "nbformat": 4,
 "nbformat_minor": 4
}
